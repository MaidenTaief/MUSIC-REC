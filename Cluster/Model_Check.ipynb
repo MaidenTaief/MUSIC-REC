{
 "cells": [
  {
   "cell_type": "code",
   "execution_count": 29,
   "outputs": [],
   "source": [
    "from joblib import load\n",
    "import pandas as pd\n",
    "\n",
    "# Load the models\n",
    "scaler = load('/Users/taief/Desktop/MUSIC REC/models/scaler.joblib')\n",
    "kmeans = load('/Users/taief/Desktop/MUSIC REC/models/kmeans.joblib')\n",
    "\n",
    "# Load the dataset\n",
    "data_by_artist = pd.read_csv('/Users/taief/Desktop/MUSIC REC/data/data_by_artist_with_clusters.csv')"
   ],
   "metadata": {
    "collapsed": false,
    "ExecuteTime": {
     "end_time": "2024-02-23T09:54:32.993478Z",
     "start_time": "2024-02-23T09:54:32.796506Z"
    }
   },
   "id": "initial_id"
  },
  {
   "cell_type": "code",
   "execution_count": 35,
   "outputs": [
    {
     "name": "stdout",
     "output_type": "stream",
     "text": [
      "The predicted cluster for the new artist is: 4\n"
     ]
    }
   ],
   "source": [
    "import pandas as pd\n",
    "\n",
    "\n",
    "feature_names = ['acousticness', 'danceability', 'energy', 'instrumentalness', 'liveness', 'speechiness', 'tempo', 'valence']\n",
    "\n",
    "# New song features as an example\n",
    "new_song_features = {\n",
    "    'acousticness': 0.1319922877697843,\n",
    "    'danceability': 0.6976834532374102,\n",
    "    'energy': 0.6081654676258996,\n",
    "    'instrumentalness': 0.0007531797122302,\n",
    "    'liveness': 0.2067410071942447,\n",
    "    'speechiness': 0.1254446043165467,\n",
    "    'tempo': 127.89237410071952,\n",
    "    'valence': 0.3342690647482012\n",
    "}\n",
    "\n",
    "# Convert the dictionary to a DataFrame to ensure it has feature names\n",
    "df = pd.DataFrame([new_song_features])\n",
    "\n",
    "# Scale the features, ensuring the resulting array is turned back into a DataFrame with column names\n",
    "scaled_features_df = pd.DataFrame(scaler.transform(df), columns=df.columns)\n",
    "\n",
    "# Use the DataFrame with retained column names for prediction\n",
    "predicted_cluster = kmeans.predict(scaled_features_df)\n",
    "\n",
    "print(f\"The predicted cluster for the new artist is: {predicted_cluster[0]}\")"
   ],
   "metadata": {
    "collapsed": false,
    "ExecuteTime": {
     "end_time": "2024-02-23T09:57:52.331516Z",
     "start_time": "2024-02-23T09:57:52.324771Z"
    }
   },
   "id": "d491bbb684a572c5"
  },
  {
   "cell_type": "code",
   "execution_count": 37,
   "outputs": [
    {
     "name": "stdout",
     "output_type": "stream",
     "text": [
      "Recommendations for artist similar to the new artist's characteristics (Cluster 4):\n",
      "                 artists                     cluster_name\n",
      "11                 $pyda                  Energetic Dance\n",
      "20              (G)I-DLE                  Energetic Dance\n",
      "21            (Hed) P.E.                  Energetic Dance\n",
      "23                   +44                     Vocally Rich\n",
      "29              10 Years                     Vocally Rich\n",
      "37             12 Stones                     Vocally Rich\n",
      "38  13th Floor Elevators  Energetic Dance, Positive Vibes\n",
      "70                 2Baba                  Energetic Dance\n",
      "77                  2WEI                     Vocally Rich\n",
      "86                   311  Energetic Dance, Positive Vibes\n"
     ]
    }
   ],
   "source": [
    "similar_artists = data_by_artist[data_by_artist['cluster_label'] == predicted_cluster[0]]\n",
    "\n",
    "\n",
    "print(f\"Recommendations for artist similar to the new artist's characteristics (Cluster {predicted_cluster[0]}):\")\n",
    "print(similar_artists[['artists', 'cluster_name']].head(10))  # Display the recommendations\n"
   ],
   "metadata": {
    "collapsed": false,
    "ExecuteTime": {
     "end_time": "2024-02-23T09:58:31.205753Z",
     "start_time": "2024-02-23T09:58:31.188268Z"
    }
   },
   "id": "7e5a5534c09f20f6"
  },
  {
   "cell_type": "code",
   "execution_count": null,
   "outputs": [],
   "source": [],
   "metadata": {
    "collapsed": false
   },
   "id": "5f2a772bc7d460f7"
  }
 ],
 "metadata": {
  "kernelspec": {
   "display_name": "Python 3",
   "language": "python",
   "name": "python3"
  },
  "language_info": {
   "codemirror_mode": {
    "name": "ipython",
    "version": 2
   },
   "file_extension": ".py",
   "mimetype": "text/x-python",
   "name": "python",
   "nbconvert_exporter": "python",
   "pygments_lexer": "ipython2",
   "version": "2.7.6"
  }
 },
 "nbformat": 4,
 "nbformat_minor": 5
}
