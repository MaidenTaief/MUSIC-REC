{
 "cells": [
  {
   "cell_type": "markdown",
   "source": [
    "# Data load and cleaning"
   ],
   "metadata": {
    "collapsed": false
   },
   "id": "7f587c1d357e48fe"
  },
  {
   "cell_type": "code",
   "execution_count": 2,
   "id": "initial_id",
   "metadata": {
    "collapsed": true,
    "ExecuteTime": {
     "end_time": "2024-02-16T11:51:52.976148Z",
     "start_time": "2024-02-16T11:51:52.955971Z"
    }
   },
   "outputs": [
    {
     "name": "stdout",
     "output_type": "stream",
     "text": [
      "   mode                  genres  acousticness  danceability   duration_ms  \\\n",
      "0     1  21st century classical      0.979333      0.162883  1.602977e+05   \n",
      "1     1                   432hz      0.494780      0.299333  1.048887e+06   \n",
      "2     1                   8-bit      0.762000      0.712000  1.151770e+05   \n",
      "3     1                      []      0.651417      0.529093  2.328809e+05   \n",
      "4     1              a cappella      0.676557      0.538961  1.906285e+05   \n",
      "\n",
      "     energy  instrumentalness  liveness   loudness  speechiness       tempo  \\\n",
      "0  0.071317          0.606834  0.361600 -31.514333     0.040567   75.336500   \n",
      "1  0.450678          0.477762  0.131000 -16.854000     0.076817  120.285667   \n",
      "2  0.818000          0.876000  0.126000  -9.180000     0.047000  133.444000   \n",
      "3  0.419146          0.205309  0.218696 -12.288965     0.107872  112.857352   \n",
      "4  0.316434          0.003003  0.172254 -12.479387     0.082851  112.110362   \n",
      "\n",
      "    valence  popularity  key  \n",
      "0  0.103783   27.833333    6  \n",
      "1  0.221750   52.500000    5  \n",
      "2  0.975000   48.000000    7  \n",
      "3  0.513604   20.859882    7  \n",
      "4  0.448249   45.820071    7  \n"
     ]
    }
   ],
   "source": [
    "import pandas as pd\n",
    "\n",
    "#load the data data_w_genres.csv\n",
    "data_by_genres = pd.read_csv('/Users/taief/Desktop/MUSIC REC/data/data_by_genres.csv')\n",
    "#print data head\n",
    "print(data_by_genres.head())"
   ]
  },
  {
   "cell_type": "code",
   "execution_count": 3,
   "outputs": [
    {
     "name": "stdout",
     "output_type": "stream",
     "text": [
      "mode                0\n",
      "genres              0\n",
      "acousticness        0\n",
      "danceability        0\n",
      "duration_ms         0\n",
      "energy              0\n",
      "instrumentalness    0\n",
      "liveness            0\n",
      "loudness            0\n",
      "speechiness         0\n",
      "tempo               0\n",
      "valence             0\n",
      "popularity          0\n",
      "key                 0\n",
      "dtype: int64\n",
      "              mode  acousticness  danceability   duration_ms       energy  \\\n",
      "count  2973.000000   2973.000000   2973.000000  2.973000e+03  2973.000000   \n",
      "mean      0.833165      0.401241      0.537187  2.517209e+05     0.561143   \n",
      "std       0.372891      0.319760      0.150668  9.465686e+04     0.234486   \n",
      "min       0.000000      0.000003      0.056900  3.094600e+04     0.001002   \n",
      "25%       1.000000      0.119050      0.441202  2.063788e+05     0.395058   \n",
      "50%       1.000000      0.321745      0.546496  2.375453e+05     0.601195   \n",
      "75%       1.000000      0.673991      0.647500  2.772720e+05     0.730127   \n",
      "max       1.000000      0.996000      0.929000  2.382587e+06     0.994667   \n",
      "\n",
      "       instrumentalness     liveness     loudness  speechiness        tempo  \\\n",
      "count       2973.000000  2973.000000  2973.000000  2973.000000  2973.000000   \n",
      "mean           0.211366     0.192800   -10.509848     0.083588   119.018723   \n",
      "std            0.267329     0.092356     5.369202     0.080483    17.469188   \n",
      "min            0.000000     0.022200   -41.825000     0.023800    47.135722   \n",
      "25%            0.004835     0.137687   -12.427656     0.044900   109.198143   \n",
      "50%            0.080700     0.178764    -9.221817     0.059457   119.194167   \n",
      "75%            0.343333     0.220856    -6.920125     0.091000   127.508750   \n",
      "max            0.992000     0.960000     0.060000     0.946219   204.212000   \n",
      "\n",
      "           valence   popularity          key  \n",
      "count  2973.000000  2973.000000  2973.000000  \n",
      "mean      0.492748    39.919185     5.938782  \n",
      "std       0.201820    16.748723     3.368110  \n",
      "min       0.003353     0.000000     0.000000  \n",
      "25%       0.348578    32.491279     3.000000  \n",
      "50%       0.500048    43.056569     7.000000  \n",
      "75%       0.640257    51.138889     9.000000  \n",
      "max       0.980000    80.666667    11.000000  \n"
     ]
    }
   ],
   "source": [
    "# Check for missing values\n",
    "print(data_by_genres.isnull().sum())\n",
    "\n",
    "# Get a summary of the dataset\n",
    "print(data_by_genres.describe())"
   ],
   "metadata": {
    "collapsed": false,
    "ExecuteTime": {
     "end_time": "2024-02-16T11:51:56.188075Z",
     "start_time": "2024-02-16T11:51:56.147873Z"
    }
   },
   "id": "42d9d894bfff10b0"
  },
  {
   "cell_type": "code",
   "execution_count": 4,
   "outputs": [
    {
     "name": "stdout",
     "output_type": "stream",
     "text": [
      "Number of 'Unknown' genre entries: 1\n",
      "0    21st century classical\n",
      "1                     432hz\n",
      "2                     8-bit\n",
      "3                   Unknown\n",
      "4                a cappella\n",
      "Name: genres, dtype: object\n"
     ]
    }
   ],
   "source": [
    "import pandas as pd\n",
    "\n",
    "data_by_genres = pd.read_csv('/Users/taief/Desktop/MUSIC REC/data/data_by_genres.csv')\n",
    "\n",
    "# Replace empty lists with the string 'Unknown'\n",
    "data_by_genres['genres'] = data_by_genres['genres'].apply(lambda x: 'Unknown' if x == '[]' else x)\n",
    "\n",
    "# Check again for empty lists\n",
    "empty_lists = data_by_genres['genres'].apply(lambda x: x == 'Unknown').sum()\n",
    "print(f\"Number of 'Unknown' genre entries: {empty_lists}\")\n",
    "\n",
    "# check for [] values in genres column\n",
    "print(data_by_genres['genres'].head())"
   ],
   "metadata": {
    "collapsed": false,
    "ExecuteTime": {
     "end_time": "2024-02-16T11:53:24.470563Z",
     "start_time": "2024-02-16T11:53:24.419305Z"
    }
   },
   "id": "548375183d6f6710"
  },
  {
   "cell_type": "code",
   "execution_count": 5,
   "outputs": [],
   "source": [
    "# save the data on a new csv file\n",
    "data_by_genres.to_csv('/Users/taief/Desktop/MUSIC REC/data/data_by_genres1.csv', index=False)"
   ],
   "metadata": {
    "collapsed": false,
    "ExecuteTime": {
     "end_time": "2024-02-16T11:55:23.625188Z",
     "start_time": "2024-02-16T11:55:23.544313Z"
    }
   },
   "id": "726f295da7da055"
  },
  {
   "cell_type": "code",
   "execution_count": 6,
   "outputs": [
    {
     "name": "stdout",
     "output_type": "stream",
     "text": [
      "   mode                  genres  acousticness  danceability   duration_ms  \\\n",
      "0     1  21st century classical      0.979333      0.162883  1.602977e+05   \n",
      "1     1                   432hz      0.494780      0.299333  1.048887e+06   \n",
      "2     1                   8-bit      0.762000      0.712000  1.151770e+05   \n",
      "3     1                 Unknown      0.651417      0.529093  2.328809e+05   \n",
      "4     1              a cappella      0.676557      0.538961  1.906285e+05   \n",
      "\n",
      "     energy  instrumentalness  liveness   loudness  speechiness       tempo  \\\n",
      "0  0.071317          0.606834  0.361600 -31.514333     0.040567   75.336500   \n",
      "1  0.450678          0.477762  0.131000 -16.854000     0.076817  120.285667   \n",
      "2  0.818000          0.876000  0.126000  -9.180000     0.047000  133.444000   \n",
      "3  0.419146          0.205309  0.218696 -12.288965     0.107872  112.857352   \n",
      "4  0.316434          0.003003  0.172254 -12.479387     0.082851  112.110362   \n",
      "\n",
      "    valence  popularity  key  \n",
      "0  0.103783   27.833333    6  \n",
      "1  0.221750   52.500000    5  \n",
      "2  0.975000   48.000000    7  \n",
      "3  0.513604   20.859882    7  \n",
      "4  0.448249   45.820071    7  \n"
     ]
    }
   ],
   "source": [
    "# load the data\n",
    "data_by_genres = pd.read_csv('/Users/taief/Desktop/MUSIC REC/data/data_by_genres1.csv')\n",
    "# check the data head\n",
    "print(data_by_genres.head())"
   ],
   "metadata": {
    "collapsed": false,
    "ExecuteTime": {
     "end_time": "2024-02-16T11:55:40.741039Z",
     "start_time": "2024-02-16T11:55:40.714958Z"
    }
   },
   "id": "556098fa2284c10a"
  },
  {
   "cell_type": "code",
   "execution_count": null,
   "outputs": [],
   "source": [],
   "metadata": {
    "collapsed": false
   },
   "id": "298d9c63c6a96c97"
  }
 ],
 "metadata": {
  "kernelspec": {
   "display_name": "Python 3",
   "language": "python",
   "name": "python3"
  },
  "language_info": {
   "codemirror_mode": {
    "name": "ipython",
    "version": 2
   },
   "file_extension": ".py",
   "mimetype": "text/x-python",
   "name": "python",
   "nbconvert_exporter": "python",
   "pygments_lexer": "ipython2",
   "version": "2.7.6"
  }
 },
 "nbformat": 4,
 "nbformat_minor": 5
}
