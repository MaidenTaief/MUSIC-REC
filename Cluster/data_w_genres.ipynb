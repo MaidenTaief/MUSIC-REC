{
 "cells": [
  {
   "cell_type": "code",
   "execution_count": 4,
   "id": "initial_id",
   "metadata": {
    "collapsed": true,
    "ExecuteTime": {
     "end_time": "2024-02-16T00:02:30.763208Z",
     "start_time": "2024-02-16T00:02:30.597638Z"
    }
   },
   "outputs": [
    {
     "name": "stdout",
     "output_type": "stream",
     "text": [
      "           genres                                            artists  \\\n",
      "0  ['show tunes']                   \"Cats\" 1981 Original London Cast   \n",
      "1              []                          \"Cats\" 1983 Broadway Cast   \n",
      "2              []        \"Fiddler On The Roof” Motion Picture Chorus   \n",
      "3              []     \"Fiddler On The Roof” Motion Picture Orchestra   \n",
      "4              []  \"Joseph And The Amazing Technicolor Dreamcoat\"...   \n",
      "\n",
      "   acousticness  danceability    duration_ms    energy  instrumentalness  \\\n",
      "0      0.590111      0.467222  250318.555556  0.394003          0.011400   \n",
      "1      0.862538      0.441731  287280.000000  0.406808          0.081158   \n",
      "2      0.856571      0.348286  328920.000000  0.286571          0.024593   \n",
      "3      0.884926      0.425074  262890.962963  0.245770          0.073587   \n",
      "4      0.510714      0.467143  270436.142857  0.488286          0.009400   \n",
      "\n",
      "   liveness   loudness  speechiness       tempo   valence  popularity  key  \\\n",
      "0  0.290833 -14.448000     0.210389  117.518111  0.389500   38.333333    5   \n",
      "1  0.315215 -10.690000     0.176212  103.044154  0.268865   30.576923    5   \n",
      "2  0.325786 -15.230714     0.118514   77.375857  0.354857   34.857143    0   \n",
      "3  0.275481 -15.639370     0.123200   88.667630  0.372030   34.851852    0   \n",
      "4  0.195000 -10.236714     0.098543  122.835857  0.482286   43.000000    5   \n",
      "\n",
      "   mode  count  \n",
      "0     1      9  \n",
      "1     1     26  \n",
      "2     1      7  \n",
      "3     1     27  \n",
      "4     1      7  \n"
     ]
    }
   ],
   "source": [
    "import pandas as pd\n",
    "\n",
    "#load the data data_w_genres.csv\n",
    "data_w_genres = pd.read_csv('/Users/taief/Desktop/MUSIC REC/data/data_w_genres.csv')\n",
    "#print data head\n",
    "print(data_w_genres.head())"
   ]
  },
  {
   "cell_type": "code",
   "execution_count": 5,
   "outputs": [
    {
     "name": "stdout",
     "output_type": "stream",
     "text": [
      "genres              0\n",
      "artists             0\n",
      "acousticness        0\n",
      "danceability        0\n",
      "duration_ms         0\n",
      "energy              0\n",
      "instrumentalness    0\n",
      "liveness            0\n",
      "loudness            0\n",
      "speechiness         0\n",
      "tempo               0\n",
      "valence             0\n",
      "popularity          0\n",
      "key                 0\n",
      "mode                0\n",
      "count               0\n",
      "dtype: int64\n",
      "       acousticness  danceability   duration_ms        energy  \\\n",
      "count  28680.000000  28680.000000  2.868000e+04  28680.000000   \n",
      "mean       0.498373      0.546490  2.388780e+05      0.497488   \n",
      "std        0.370614      0.176474  1.211318e+05      0.254885   \n",
      "min        0.000000      0.000000  1.879550e+04      0.000000   \n",
      "25%        0.122296      0.431000  1.823304e+05      0.283568   \n",
      "50%        0.478458      0.557000  2.186400e+05      0.504000   \n",
      "75%        0.896000      0.675000  2.684670e+05      0.702783   \n",
      "max        0.996000      0.986000  5.403500e+06      1.000000   \n",
      "\n",
      "       instrumentalness      liveness      loudness   speechiness  \\\n",
      "count      28680.000000  28680.000000  28680.000000  28680.000000   \n",
      "mean           0.174756      0.202441    -11.140498      0.094014   \n",
      "std            0.298406      0.140884      5.771749      0.111986   \n",
      "min            0.000000      0.000000    -60.000000      0.000000   \n",
      "25%            0.000004      0.110362    -13.972292      0.039200   \n",
      "50%            0.001880      0.161000    -10.088938      0.052200   \n",
      "75%            0.215291      0.247000     -6.889000      0.095300   \n",
      "max            1.000000      0.991000      1.342000      0.964000   \n",
      "\n",
      "              tempo       valence    popularity           key          mode  \\\n",
      "count  28680.000000  28680.000000  28680.000000  28680.000000  28680.000000   \n",
      "mean     115.844830      0.512723     34.060945      5.412901      0.759170   \n",
      "std       25.003834      0.244421     22.376438      3.480552      0.427595   \n",
      "min        0.000000      0.000000      0.000000      0.000000      0.000000   \n",
      "25%       99.366500      0.329000     12.000000      2.000000      1.000000   \n",
      "50%      115.357400      0.523243     39.000000      6.000000      1.000000   \n",
      "75%      129.848750      0.703000     51.000000      8.000000      1.000000   \n",
      "max      217.743000      0.991000     93.000000     11.000000      1.000000   \n",
      "\n",
      "              count  \n",
      "count  28680.000000  \n",
      "mean      13.847211  \n",
      "std       53.372544  \n",
      "min        1.000000  \n",
      "25%        2.000000  \n",
      "50%        3.000000  \n",
      "75%        8.000000  \n",
      "max     3169.000000  \n"
     ]
    }
   ],
   "source": [
    "# Check for missing values\n",
    "print(data_w_genres.isnull().sum())\n",
    "\n",
    "# Get a summary of the dataset\n",
    "print(data_w_genres.describe())"
   ],
   "metadata": {
    "collapsed": false,
    "ExecuteTime": {
     "end_time": "2024-02-16T00:02:33.796491Z",
     "start_time": "2024-02-16T00:02:33.704127Z"
    }
   },
   "id": "8aa62d54d6767506"
  },
  {
   "cell_type": "markdown",
   "source": [
    "# Data Preprocessing\n",
    "# stabdardize the data by scaling the numerical columns"
   ],
   "metadata": {
    "collapsed": false
   },
   "id": "ef60f40509c4237e"
  },
  {
   "cell_type": "code",
   "execution_count": 28,
   "outputs": [
    {
     "name": "stdout",
     "output_type": "stream",
     "text": [
      "Number of 'Unknown' genre entries: 9857\n",
      "0    ['show tunes']\n",
      "1           Unknown\n",
      "2           Unknown\n",
      "3           Unknown\n",
      "4           Unknown\n",
      "Name: genres, dtype: object\n"
     ]
    }
   ],
   "source": [
    "import pandas as pd\n",
    "\n",
    "data_w_genres = pd.read_csv('/Users/taief/Desktop/MUSIC REC/data/data_w_genres.csv')\n",
    "\n",
    "# Replace empty lists with the string 'Unknown'\n",
    "data_w_genres['genres'] = data_w_genres['genres'].apply(lambda x: 'Unknown' if x == '[]' else x)\n",
    "\n",
    "# Check again for empty lists\n",
    "empty_lists = data_w_genres['genres'].apply(lambda x: x == 'Unknown').sum()\n",
    "print(f\"Number of 'Unknown' genre entries: {empty_lists}\")\n",
    "\n",
    "# check for [] values in genres column\n",
    "print(data_w_genres['genres'].head())"
   ],
   "metadata": {
    "collapsed": false,
    "ExecuteTime": {
     "end_time": "2024-02-16T01:47:08.842368Z",
     "start_time": "2024-02-16T01:47:08.423450Z"
    }
   },
   "id": "1b305f8ee7794029"
  },
  {
   "cell_type": "code",
   "execution_count": 29,
   "outputs": [
    {
     "name": "stdout",
     "output_type": "stream",
     "text": [
      "           genres                                            artists  \\\n",
      "0  ['show tunes']                   \"Cats\" 1981 Original London Cast   \n",
      "1         Unknown                          \"Cats\" 1983 Broadway Cast   \n",
      "2         Unknown        \"Fiddler On The Roof” Motion Picture Chorus   \n",
      "3         Unknown     \"Fiddler On The Roof” Motion Picture Orchestra   \n",
      "4         Unknown  \"Joseph And The Amazing Technicolor Dreamcoat\"...   \n",
      "\n",
      "   acousticness  danceability  duration_ms    energy  instrumentalness  \\\n",
      "0      0.247535     -0.449184     0.094449 -0.406013         -0.547439   \n",
      "1      0.982617     -0.593635     0.399588 -0.355776         -0.313665   \n",
      "2      0.966517     -1.123156     0.743352 -0.827512         -0.503226   \n",
      "3      1.043025     -0.688023     0.198242 -0.987591         -0.339037   \n",
      "4      0.033301     -0.449634     0.260532 -0.036105         -0.554140   \n",
      "\n",
      "   liveness  loudness  speechiness     tempo   valence  popularity  key  mode  \\\n",
      "0  0.627425 -0.573060     1.039205  0.066922 -0.504151   38.333333    5     1   \n",
      "1  0.800493  0.078054     0.734007 -0.511957 -0.997712   30.576923    5     1   \n",
      "2  0.875523 -0.708674     0.218780 -1.538550 -0.645888   34.857143    0     1   \n",
      "3  0.518455 -0.779478     0.260623 -1.086940 -0.575629   34.851852    0     1   \n",
      "4 -0.052816  0.156590     0.040439  0.279603 -0.124530   43.000000    5     1   \n",
      "\n",
      "   count  \n",
      "0      9  \n",
      "1     26  \n",
      "2      7  \n",
      "3     27  \n",
      "4      7  \n"
     ]
    }
   ],
   "source": [
    "from sklearn.preprocessing import StandardScaler\n",
    "\n",
    "# Fit and transform the data\n",
    "scaler = StandardScaler()\n",
    "\n",
    "# select features to scale\n",
    "\n",
    "features_to_scale = ['acousticness', 'danceability', 'duration_ms', 'energy', 'instrumentalness', 'liveness', 'loudness', 'speechiness', 'tempo', 'valence']\n",
    "\n",
    "# Scale the features\n",
    "\n",
    "data_w_genres[features_to_scale] = scaler.fit_transform(data_w_genres[features_to_scale])\n",
    "\n",
    "# print the head of the data\n",
    "print(data_w_genres.head())\n"
   ],
   "metadata": {
    "collapsed": false,
    "ExecuteTime": {
     "end_time": "2024-02-16T01:47:45.719028Z",
     "start_time": "2024-02-16T01:47:45.683022Z"
    }
   },
   "id": "4ac7bcccbe7f1b9f"
  },
  {
   "cell_type": "markdown",
   "source": [
    "# EDA"
   ],
   "metadata": {
    "collapsed": false
   },
   "id": "a65fdfe4549ffa20"
  },
  {
   "cell_type": "code",
   "execution_count": 32,
   "outputs": [
    {
     "data": {
      "text/plain": "<Figure size 1200x800 with 1 Axes>",
      "image/png": "[encoded data removed]"
     },
     "metadata": {},
     "output_type": "display_data"
    }
   ],
   "source": [
    "import pandas as pd\n",
    "import matplotlib.pyplot as plt\n",
    "import seaborn as sns\n",
    "from collections import Counter\n",
    "import ast  # Abstract Syntax Trees\n",
    "\n",
    "# Load your data\n",
    "data_w_genres = pd.read_csv('/Users/taief/Desktop/MUSIC REC/data/data_w_genres.csv')\n",
    "\n",
    "# Convert the 'genres' column to actual lists (if they are not already)\n",
    "data_w_genres['genres'] = data_w_genres['genres'].apply(lambda x: ast.literal_eval(x) if isinstance(x, str) else x)\n",
    "\n",
    "# Flatten the genre lists into one list\n",
    "all_genres = [genre for sublist in data_w_genres['genres'] for genre in sublist]\n",
    "\n",
    "# Count each genre's occurrence\n",
    "genre_counts = Counter(all_genres)\n",
    "\n",
    "# Create a DataFrame for the counts\n",
    "genre_df = pd.DataFrame(genre_counts.items(), columns=['Genre', 'Count']).sort_values('Count', ascending=False)\n",
    "\n",
    "# Plot the top 20 genres by count\n",
    "plt.figure(figsize=(12, 8))\n",
    "sns.barplot(x='Count', y='Genre', data=genre_df.head(20))\n",
    "plt.title('Top 20 Genres by Count')\n",
    "plt.show()\n"
   ],
   "metadata": {
    "collapsed": false,
    "ExecuteTime": {
     "end_time": "2024-02-16T02:11:03.044863Z",
     "start_time": "2024-02-16T02:11:00.342462Z"
    }
   },
   "id": "2a9fdf1ea8ce0ed0"
  },
  {
   "cell_type": "code",
   "execution_count": null,
   "outputs": [],
   "source": [],
   "metadata": {
    "collapsed": false
   },
   "id": "963d9e1da55bd581"
  }
 ],
 "metadata": {
  "kernelspec": {
   "display_name": "Python 3",
   "language": "python",
   "name": "python3"
  },
  "language_info": {
   "codemirror_mode": {
    "name": "ipython",
    "version": 2
   },
   "file_extension": ".py",
   "mimetype": "text/x-python",
   "name": "python",
   "nbconvert_exporter": "python",
   "pygments_lexer": "ipython2",
   "version": "2.7.6"
  }
 },
 "nbformat": 4,
 "nbformat_minor": 5
}
